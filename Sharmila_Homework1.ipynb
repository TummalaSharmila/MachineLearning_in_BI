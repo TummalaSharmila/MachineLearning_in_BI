{
  "nbformat": 4,
  "nbformat_minor": 0,
  "metadata": {
    "colab": {
      "provenance": []
    },
    "kernelspec": {
      "name": "python3",
      "display_name": "Python 3"
    },
    "language_info": {
      "name": "python"
    }
  },
  "cells": [
    {
      "cell_type": "code",
      "execution_count": 24,
      "metadata": {
        "id": "JuO3-ZmaiS3g"
      },
      "outputs": [],
      "source": [
        "import numpy as np\n",
        "import pandas as pd\n",
        "from sklearn.linear_model import LinearRegression\n",
        "from sklearn.linear_model import Perceptron\n",
        "from sklearn.discriminant_analysis import LinearDiscriminantAnalysis\n"
      ]
    },
    {
      "cell_type": "markdown",
      "source": [
        "#Question 1"
      ],
      "metadata": {
        "id": "HsAivwFaYkBb"
      }
    },
    {
      "cell_type": "code",
      "source": [
        "\n",
        "\n",
        "# Defining input data points and labels\n",
        "X = np.array([\n",
        "    [1, 2, 0],  # x1\n",
        "    [1, 2, 2],  # x2\n",
        "    [1, 0, 2]   # x3\n",
        "])\n",
        "y = np.array([1, 1, -1])\n",
        "\n",
        "# Initializing weights\n",
        "w = np.array([0, 6, 6])\n",
        "\n",
        "# Perceptron learning step by step\n",
        "for epoch in range(10):\n",
        "    misclassified = False\n",
        "    print(f\"Epoch {epoch + 1}, Current weights: {w}\")\n",
        "\n",
        "    for i in range(len(X)):\n",
        "        prediction = np.sign(np.dot(w, X[i]))\n",
        "\n",
        "        if prediction != y[i]:\n",
        "            print(f\"Updating weights for x{i+1} = {X[i]}, y{i+1} = {y[i]}\")\n",
        "            w += y[i] * X[i]\n",
        "            misclassified = True\n",
        "            print(f\"New weights: {w}\")\n",
        "\n",
        "    if not misclassified:\n",
        "        print(\"All points classified correctly. Stopping...\")\n",
        "        break\n",
        "\n"
      ],
      "metadata": {
        "colab": {
          "base_uri": "https://localhost:8080/"
        },
        "id": "fFJDrYhtiUSy",
        "outputId": "246d499a-41ff-4af2-9981-95e9e81a71af"
      },
      "execution_count": 25,
      "outputs": [
        {
          "output_type": "stream",
          "name": "stdout",
          "text": [
            "Epoch 1, Current weights: [0 6 6]\n",
            "Updating weights for x3 = [1 0 2], y3 = -1\n",
            "New weights: [-1  6  4]\n",
            "Epoch 2, Current weights: [-1  6  4]\n",
            "Updating weights for x3 = [1 0 2], y3 = -1\n",
            "New weights: [-2  6  2]\n",
            "Epoch 3, Current weights: [-2  6  2]\n",
            "Updating weights for x3 = [1 0 2], y3 = -1\n",
            "New weights: [-3  6  0]\n",
            "Epoch 4, Current weights: [-3  6  0]\n",
            "All points classified correctly. Stopping...\n"
          ]
        }
      ]
    },
    {
      "cell_type": "markdown",
      "source": [
        "# Question 2(a): Least Squares Solution"
      ],
      "metadata": {
        "id": "nzW_sTudXzvW"
      }
    },
    {
      "cell_type": "code",
      "source": [
        "\n",
        "def least_squares_solution():\n",
        "    # Given input  data points\n",
        "    X = np.array([[1, 3, 2], [1, 2, 2], [1, 1, -1], [1, -1, -3]])\n",
        "    y = np.array([3, 1, -1, -3])\n",
        "\n",
        "    # Computing  the weight vector w\n",
        "    w = np.linalg.inv(X.T @ X) @ X.T @ y\n",
        "    print(\"Weight vector w (Least Squares Solution):\", w)\n",
        "least_squares_solution()\n"
      ],
      "metadata": {
        "colab": {
          "base_uri": "https://localhost:8080/"
        },
        "id": "VNIBuRNwWsPY",
        "outputId": "9078f11c-858d-4983-a37f-5348575c0b55"
      },
      "execution_count": 26,
      "outputs": [
        {
          "output_type": "stream",
          "name": "stdout",
          "text": [
            "Weight vector w (Least Squares Solution): [-1.66666667  1.33333333  0.11111111]\n"
          ]
        }
      ]
    },
    {
      "cell_type": "markdown",
      "source": [
        "# Question 2(b): Sklearn Linear Regression"
      ],
      "metadata": {
        "id": "CSHiV025YE9a"
      }
    },
    {
      "cell_type": "code",
      "source": [
        "\n",
        "def sklearn_linear_regression():\n",
        "    # Given  input data points\n",
        "    X = np.array([[3, 2], [2, 2], [1, -1], [-1, -3]])\n",
        "    y = np.array([3, 1, -1, -3])\n",
        "\n",
        "    # Linear regression model\n",
        "    model = LinearRegression(fit_intercept=True)\n",
        "    model.fit(X, y)\n",
        "\n",
        "    print(\"Weight vector w (sklearn LinearRegression):\", np.insert(model.coef_, 0, model.intercept_))\n",
        "\n",
        "sklearn_linear_regression()\n"
      ],
      "metadata": {
        "colab": {
          "base_uri": "https://localhost:8080/"
        },
        "id": "cIPhi9ZBYCNG",
        "outputId": "8ea1a8f1-3a95-46bc-e9db-843b62a6e4b8"
      },
      "execution_count": 27,
      "outputs": [
        {
          "output_type": "stream",
          "name": "stdout",
          "text": [
            "Weight vector w (sklearn LinearRegression): [-1.66666667  1.33333333  0.11111111]\n"
          ]
        }
      ]
    },
    {
      "cell_type": "markdown",
      "source": [
        "# Question 3: Fisher's Linear Discriminant"
      ],
      "metadata": {
        "id": "bhryrqYEYJLu"
      }
    },
    {
      "cell_type": "code",
      "source": [
        "\n",
        "def fisher_linear_discriminant():\n",
        "    # Given input data points\n",
        "    X = np.array([[4, 3], [2, 2], [1, 1], [-2, -1]])\n",
        "    y = np.array([1, 1, -1, -1])\n",
        "\n",
        "    # Computing class means\n",
        "    mean_class1 = np.mean(X[y == 1], axis=0)\n",
        "    mean_class2 = np.mean(X[y == -1], axis=0)\n",
        "\n",
        "    # Computing scatter matrix\n",
        "    S_w = np.zeros((2, 2))\n",
        "    for i in range(len(X)):\n",
        "        xi = X[i].reshape(2, 1)\n",
        "        if y[i] == 1:\n",
        "            diff = xi - mean_class1.reshape(2, 1)\n",
        "        else:\n",
        "            diff = xi - mean_class2.reshape(2, 1)\n",
        "        S_w += diff @ diff.T\n",
        "\n",
        "    # Computing Fisher's discriminant direction w\n",
        "    w = np.linalg.inv(S_w) @ (mean_class1 - mean_class2)\n",
        "    print(\"Fisher's linear discriminant vector w:\", w)\n",
        "fisher_linear_discriminant()\n"
      ],
      "metadata": {
        "colab": {
          "base_uri": "https://localhost:8080/"
        },
        "id": "_m6cChCqWukT",
        "outputId": "5bffc96c-9b99-4698-ef08-7cd568184a1a"
      },
      "execution_count": 28,
      "outputs": [
        {
          "output_type": "stream",
          "name": "stdout",
          "text": [
            "Fisher's linear discriminant vector w: [-5.  9.]\n"
          ]
        }
      ]
    },
    {
      "cell_type": "markdown",
      "source": [
        "# Question 4(a): Perceptron for Linear Classification"
      ],
      "metadata": {
        "id": "wHzHDiDTYMKV"
      }
    },
    {
      "cell_type": "code",
      "source": [
        "\n",
        "def perceptron_classification(filename):\n",
        "    data = pd.read_csv(filename)\n",
        "    X = data.iloc[:, :-1].values\n",
        "    y = data.iloc[:, -1].values\n",
        "\n",
        "    model = Perceptron()\n",
        "    model.fit(X, y)\n",
        "\n",
        "    print(\"Weight vector w (Perceptron):\", model.coef_)\n",
        "    print(\"Intercept w0 (Perceptron):\", model.intercept_)\n",
        "\n",
        "perceptron_classification(\"heart_disease_data.txt\")"
      ],
      "metadata": {
        "colab": {
          "base_uri": "https://localhost:8080/"
        },
        "id": "F0Fjr8k-5fHh",
        "outputId": "a04fff4e-ee35-4ab4-8bd2-44680974818a"
      },
      "execution_count": 29,
      "outputs": [
        {
          "output_type": "stream",
          "name": "stdout",
          "text": [
            "Weight vector w (Perceptron): [[  731.     67.    197.    325.     23.    -10.    116.  -1187.     59.\n",
            "    189.9    93.    159.    508. ]]\n",
            "Intercept w0 (Perceptron): [6.]\n"
          ]
        }
      ]
    },
    {
      "cell_type": "markdown",
      "source": [
        "# Question 4(b): LDA for Linear Discriminant Analysis"
      ],
      "metadata": {
        "id": "dvcQkRI_YZol"
      }
    },
    {
      "cell_type": "code",
      "source": [
        "\n",
        "def lda_classification(filename):\n",
        "    data = pd.read_csv(filename)\n",
        "    X = data.iloc[:, :-1].values\n",
        "    y = data.iloc[:, -1].values\n",
        "    lda = LinearDiscriminantAnalysis()\n",
        "    lda.fit(X, y)\n",
        "\n",
        "    print(\"Weight vector w (LDA):\", lda.coef_)\n",
        "\n",
        "lda_classification(\"heart_disease_data.txt\")"
      ],
      "metadata": {
        "colab": {
          "base_uri": "https://localhost:8080/"
        },
        "id": "g-A_3hfiYQ4B",
        "outputId": "6885ebcb-89b2-464e-bf38-8c3efe7bff68"
      },
      "execution_count": 30,
      "outputs": [
        {
          "output_type": "stream",
          "name": "stdout",
          "text": [
            "Weight vector w (LDA): [[-0.00473584  1.26780721  1.30117132 -0.03437771  0.01697281 -0.07954438\n",
            "   0.66800376 -0.01986038  0.32713953  0.78643444  0.25465599  1.02247583\n",
            "   0.99167057]]\n"
          ]
        }
      ]
    }
  ]
}