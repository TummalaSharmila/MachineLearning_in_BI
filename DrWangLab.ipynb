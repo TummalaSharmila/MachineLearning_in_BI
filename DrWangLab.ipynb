{
  "nbformat": 4,
  "nbformat_minor": 0,
  "metadata": {
    "colab": {
      "provenance": [],
      "authorship_tag": "ABX9TyNAdTW67MkSE0eBuFfJdxBm",
      "include_colab_link": true
    },
    "kernelspec": {
      "name": "python3",
      "display_name": "Python 3"
    },
    "language_info": {
      "name": "python"
    }
  },
  "cells": [
    {
      "cell_type": "markdown",
      "metadata": {
        "id": "view-in-github",
        "colab_type": "text"
      },
      "source": [
        "<a href=\"https://colab.research.google.com/github/TummalaSharmila/MachineLearning_in_BI/blob/main/DrWangLab.ipynb\" target=\"_parent\"><img src=\"https://colab.research.google.com/assets/colab-badge.svg\" alt=\"Open In Colab\"/></a>"
      ]
    },
    {
      "cell_type": "code",
      "execution_count": null,
      "metadata": {
        "id": "xUuB08bIY4EX"
      },
      "outputs": [],
      "source": [
        "import muon as mu\n",
        "import scanpy as sc\n",
        "import celloracle as co\n",
        "import pandas as pd\n",
        "import numpy as np\n",
        "\n",
        "# Load MuData file\n",
        "mdata = mu.read(\"your_file.h5mu\")\n",
        "\n",
        "# Extract RNA modality (this is an AnnData object)\n",
        "adata = mdata.mod['rna']\n",
        "\n",
        "# Option 1: use 'Day' as proxy for cell type\n",
        "adata.obs[\"cell_type\"] = adata.obs[\"Day\"].astype(str)\n",
        "\n",
        "# Option 2: assign dummy label\n",
        "# adata.obs[\"cell_type\"] = \"unspecified\"\n",
        "\n",
        "#preprocessing\n",
        "sc.pp.normalize_total(adata, target_sum=1e4)\n",
        "sc.pp.log1p(adata)\n",
        "sc.pp.highly_variable_genes(adata, n_top_genes=2000, subset=True)\n",
        "sc.pp.scale(adata)\n",
        "sc.tl.pca(adata)\n",
        "sc.pp.neighbors(adata)\n",
        "sc.tl.umap(adata)\n",
        "\n",
        "#create cell oracle Object\n",
        "oracle = co.Oracle()\n",
        "oracle.import_anndata_as_raw_data(adata)\n",
        "oracle.cell_type_column_name = \"cell_type\"\n",
        "\n",
        "#gene annotatins and GRN buidling\n",
        "oracle.get_gene_annotation(genome=\"mm10\")  # Or \"hg38\" for human\n",
        "\n",
        "oracle.build_grn_for_simulation(\n",
        "    input_tf_names=\"auto\",\n",
        "    verbose=True\n",
        ")\n",
        "\n",
        "#dimensional reduction\n",
        "oracle.perform_pca()\n",
        "oracle.reduce_dimension(method=\"umap\")\n",
        "oracle.calculate_velocity_on_grid()\n",
        "\n",
        "# Visualize\n",
        "oracle.plot_vector_field()\n",
        "\n",
        "#save files\n",
        "\n",
        "# Create UMAP + vector field plot\n",
        "fig = oracle.plot_vector_field(show_arrow=True, color=\"cell_type\", show_legend=True)\n",
        "\n",
        "# Save to file\n",
        "fig.savefig(\"vector_field.png\", dpi=300, bbox_inches='tight')\n",
        "\n"
      ]
    }
  ]
}